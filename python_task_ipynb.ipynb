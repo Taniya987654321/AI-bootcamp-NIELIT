{
  "nbformat": 4,
  "nbformat_minor": 0,
  "metadata": {
    "colab": {
      "provenance": []
    },
    "kernelspec": {
      "name": "python3",
      "display_name": "Python 3"
    },
    "language_info": {
      "name": "python"
    }
  },
  "cells": [
    {
      "cell_type": "code",
      "execution_count": null,
      "metadata": {
        "colab": {
          "base_uri": "https://localhost:8080/"
        },
        "id": "AJXWYptwys2i",
        "outputId": "4bb23c43-2366-4d33-89b2-6321c1f15c84"
      },
      "outputs": [
        {
          "output_type": "stream",
          "name": "stdout",
          "text": [
            "Hello,World!\n"
          ]
        }
      ],
      "source": [
        "print(\"Hello,World!\")"
      ]
    },
    {
      "cell_type": "code",
      "source": [
        "a=7\n",
        "b=2.5\n",
        "#Addition\n",
        "c=a + b\n",
        "print(\"The sum of two number is\",c)"
      ],
      "metadata": {
        "colab": {
          "base_uri": "https://localhost:8080/"
        },
        "id": "Exx0MsrjzJMh",
        "outputId": "3a7abd5c-c942-4ccd-9355-9fefdd53ee3c"
      },
      "execution_count": null,
      "outputs": [
        {
          "output_type": "stream",
          "name": "stdout",
          "text": [
            "The sum of two number is 9.5\n"
          ]
        }
      ]
    },
    {
      "cell_type": "code",
      "source": [
        "t= float(input(\"Enter first number:\" ))\n",
        "a= float(input(\"Enter second number:\"))\n",
        "b=t*a\n",
        "print(\"The product of two number is\",b)"
      ],
      "metadata": {
        "colab": {
          "base_uri": "https://localhost:8080/"
        },
        "id": "7FEkKa_azJ3v",
        "outputId": "160c9576-5d0a-4e9e-ce26-5f928e9b3186"
      },
      "execution_count": null,
      "outputs": [
        {
          "output_type": "stream",
          "name": "stdout",
          "text": [
            "Enter first number:25\n",
            "Enter second number:76\n",
            "The product of two number is 1900.0\n"
          ]
        }
      ]
    },
    {
      "cell_type": "code",
      "source": [],
      "metadata": {
        "id": "t1raKdhB2p5_"
      },
      "execution_count": null,
      "outputs": []
    },
    {
      "cell_type": "code",
      "source": [],
      "metadata": {
        "id": "JKKmZ-PtzJq3"
      },
      "execution_count": null,
      "outputs": []
    }
  ]
}